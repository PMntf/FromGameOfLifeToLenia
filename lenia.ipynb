{
  "metadata": {
    "kernelspec": {
      "name": "python",
      "display_name": "Python (Pyodide)",
      "language": "python"
    },
    "language_info": {
      "codemirror_mode": {
        "name": "python",
        "version": 3
      },
      "file_extension": ".py",
      "mimetype": "text/x-python",
      "name": "python",
      "nbconvert_exporter": "python",
      "pygments_lexer": "ipython3",
      "version": "3.8"
    }
  },
  "nbformat_minor": 4,
  "nbformat": 4,
  "cells": [
    {
      "cell_type": "markdown",
      "source": "# Du jeu de la vie à Lenia\n\nDans ce notebook, on va découvrir l'environnement Lenia en s'inspirant du travail de [Bert Chan](https://chakazul.github.io/lenia.html).\n\nOn commencera par implémenter les modules qui nous serviront par la suite.",
      "metadata": {}
    },
    {
      "cell_type": "code",
      "source": "import numpy as np\nimport matplotlib\nimport matplotlib.pyplot as plt\nimport matplotlib.animation as animation\nimport scipy as sp\nimport scipy.signal\nfrom IPython.display import HTML\nmatplotlib.rcParams['animation.embed_limit'] = 2**128\nnp.random.seed(42)",
      "metadata": {
        "trusted": true
      },
      "outputs": [],
      "execution_count": null
    },
    {
      "cell_type": "markdown",
      "source": "On implémentera aussi une fonction qui va permettre de réaliser un \"film\" montrant l'évolution de notre simulation dans le temps.",
      "metadata": {}
    },
    {
      "cell_type": "code",
      "source": "def affichage(plateau, tour_suivant, nb_etapes, cmap, interpolation = \"none\"):\n\n    fig = plt.figure()\n    monde = plt.imshow(plateau, cmap=cmap, interpolation = interpolation)\n    plt.axis('off')\n    \n    def suiv(i):\n        if (i==0):\n            return monde,\n        nonlocal plateau\n        plateau = tour_suivant(plateau)\n        monde.set_array(plateau)\n        return monde,\n\n    ani = animation.FuncAnimation(fig, suiv, nb_etapes, interval = 50)\n    plt.close()\n    return ani",
      "metadata": {
        "trusted": true
      },
      "outputs": [],
      "execution_count": null
    },
    {
      "cell_type": "markdown",
      "source": "## 1) Le jeu de la vie de John Conway\n\nPour commencer, on va implémenter le jeu de la vie de John Conway.\n\nLes règles sont simples et se déroulent sur un plateau vide ( remplis de 0 ) où il y existe des cellules ( représentées par des 1 ).\n\nPour chaque tour, chaque case du tableau suivra les règles suivantes : \n- Si une cellule a 2 ou 3 voisins, elle survit\n- Si une case vide a 3 voisins, une cellule y naît.\n",
      "metadata": {}
    },
    {
      "cell_type": "code",
      "source": "def tour_suivant(plateau): #règle de jeu de la vie\n    nb_voisins_tab = sum(np.roll(np.roll(plateau, i, 0), j, 1) for i in (-1, 0, 1) for j in (-1, 0, 1) if (i != 0 or j != 0))  \n    return (nb_voisins_tab == 3) | (plateau & (nb_voisins_tab == 2))",
      "metadata": {
        "trusted": true
      },
      "outputs": [],
      "execution_count": null
    },
    {
      "cell_type": "markdown",
      "source": "On peut donc générer notre jeu de la vie sur un plateau aléatoire et regarder le résultat. ",
      "metadata": {}
    },
    {
      "cell_type": "code",
      "source": "dim = 128\nnb_tours = 100\nplateau = np.random.randint(0, 8, (dim, dim)) #Génération d'un plateau aléatoire \nplateau = (plateau==0)\n\nHTML(affichage(plateau, tour_suivant, nb_tours, cmap = 'Greys').to_jshtml())",
      "metadata": {
        "trusted": true
      },
      "outputs": [],
      "execution_count": null
    },
    {
      "cell_type": "markdown",
      "source": "## 2) Ajout d'une continuité sur l'état de la cellule\n\nPour représenter l'état de la cellule, on représentait la cellule avec deux états : 0 pour une cellule morte et 1 pour une cellule vivante.\n\nÀ la place, on va représenter l'état de manière \"continue\" en prenant une valeure entre 0 et 1. Pour le visualiser on utilisera \"cmap\" de python qui va donner un dégradé de couleur selon la valeur de la case.\n\nLe problème est qu'on n'aura plus _k voisins_ mais une valeur entre 0 et 8. Pour déterminer l'état d'une cellule au tour suivant, on va donc utiliser une fonction qui à la somme des états des voisins renverra l'état de la cellule.\n\nOn choisit une fonction Gaussienne : \n$g(x) = e^{-0.5(\\frac{x-\\mu}{\\sigma})^2}$",
      "metadata": {}
    },
    {
      "cell_type": "code",
      "source": "from matplotlib.collections import LineCollection\n\ndef gauss(x, mu, sigma): #g(x) \n    return np.exp(-0.5*((x-mu)/sigma)**2)\n\nmu = 3\nsigma = 1  #valeurs qui peuvent varier et fournir des comportements plus ou moins sensibles\ncmap = \"hot\"",
      "metadata": {
        "trusted": true
      },
      "outputs": [],
      "execution_count": null
    },
    {
      "cell_type": "markdown",
      "source": "Et voici l'allure de la fonction obtenue par rapport à mu, sigma et la couleur qu'on a choisi. ",
      "metadata": {}
    },
    {
      "cell_type": "code",
      "source": "x = np.arange(0, 8, 0.01)\ny = gauss(x, mu, sigma)\n\npoints = np.array([x, y]).T.reshape(-1, 1, 2)\nsegments = np.concatenate([points[:-1], points[1:]], axis=1) \n\nlc = LineCollection(segments, cmap=cmap)\nlc.set_array(y)\nlc.set_linewidth(2)\n \nfig, ax = plt.subplots()\nax.add_collection(lc)\nax.autoscale()\n\ncbar = fig.colorbar(lc, ax=ax)\ncbar.set_label('couleur de la cellule selon son état')\n    \nplt.xlabel('x - somme des états des voisins')\nplt.ylabel('g(x) - nouvel état de la cellule')\nplt.title('Allure de la fonction')\nplt.show()",
      "metadata": {
        "trusted": true
      },
      "outputs": [],
      "execution_count": null
    },
    {
      "cell_type": "markdown",
      "source": "On modifie donc la fonction _tour_suivant_ pour y ajouter ce calcul.",
      "metadata": {}
    },
    {
      "cell_type": "code",
      "source": "def tour_suivant(plateau):\n    nb_voisins_tab = sum(np.roll(np.roll(plateau, i, 0), j, 1) for i in (-1, 0, 1) for j in (-1, 0, 1) if (i != 0 or j != 0)) \n    return gauss(plateau, mu, sigma)",
      "metadata": {
        "trusted": true
      },
      "outputs": [],
      "execution_count": null
    },
    {
      "cell_type": "markdown",
      "source": "Et on peut donc exécuter sur un nouveau plateau le code.",
      "metadata": {}
    },
    {
      "cell_type": "code",
      "source": "plateau = np.random.rand(dim, dim)\n\nHTML(affichage(plateau, tour_suivant, nb_tours, cmap = cmap, interpolation = \"bicubic\").to_jshtml())",
      "metadata": {
        "trusted": true
      },
      "outputs": [],
      "execution_count": null
    },
    {
      "cell_type": "markdown",
      "source": "En utilisant seulement cet ajout, l'évolution de notre plateau sera beaucoup trop sensible. Pour la majorité des paramètres sigma et mu, il va se stabiliser vers une valeur $k$ telle que $8k \\approx g(k)$.",
      "metadata": {}
    },
    {
      "cell_type": "markdown",
      "source": "## 3) Ajout d'une continuité temporelle sur le plateau\n\nPour palier au problème rencontré précédemment,  on va utiliser la fonction g non pas pour définir l'état, mais comme un taux d'accroissement.",
      "metadata": {}
    },
    {
      "cell_type": "code",
      "source": "def accroissement(x, mu, sigma): #fonction qui permettra de transformer notre fonction Gaussienne en une fonction  qui servira de taux d'accroissement\n    return gauss(x, mu, sigma)*2 - 1",
      "metadata": {
        "trusted": true
      },
      "outputs": [],
      "execution_count": null
    },
    {
      "cell_type": "code",
      "source": "x = np.arange(0, 8, 0.01)\ny = accroissement(x, mu, sigma)\n\nplt.plot(x,y)\nplt.axhline(0, linestyle='--', color='red')\nplt.show()",
      "metadata": {
        "trusted": true
      },
      "outputs": [],
      "execution_count": null
    },
    {
      "cell_type": "code",
      "source": "dt = 0.1\n\ndef tour_suivant(plateau):\n    nb_voisins_tab = sum(np.roll(np.roll(plateau, i, 0), j, 1) for i in (-1, 0, 1) for j in (-1, 0, 1) if (i != 0 or j != 0))\n    plateau += dt*accroissement(nb_voisins_tab, mu, sigma)\n    plateau = np.clip(plateau, 0, 1) #garde la valeur entre 0 et 1\n    return plateau",
      "metadata": {
        "trusted": true
      },
      "outputs": [],
      "execution_count": null
    },
    {
      "cell_type": "code",
      "source": "figure = np.random.rand(dim//2, dim//2) \nplateau = np.zeros((dim,dim)) \npos_x = dim//4\npos_y = dim//4\nplateau[pos_x:(pos_x + figure.shape[1]), pos_y:(pos_y + figure.shape[0])] = figure.T\n\nHTML(affichage(plateau, tour_suivant, nb_tours, cmap = cmap, interpolation = \"bicubic\").to_jshtml())",
      "metadata": {
        "trusted": true
      },
      "outputs": [],
      "execution_count": null
    },
    {
      "cell_type": "markdown",
      "source": "On remarque que le comportement est beaucoup moins sensible même si au centre de la figure le tout finit aussi par se stabiliser. ",
      "metadata": {}
    },
    {
      "cell_type": "markdown",
      "source": "## 4) Ajout d'une continuité de l'espace utilisé\n\nLe dernier élément qui limitait grandement l'évolution de notre plateau était la condition de regarder uniquement les voisins de la cellule. En effet, il semble beaucoup plus simple de se stabiliser en ne considérant que peu de variables. \n\nOn va donc créer un filtre qui va observer les cellules proches en donnant plus ou moins d'importance à la cellule selon sa proximité.",
      "metadata": {}
    },
    {
      "cell_type": "code",
      "source": "R = 13 #Champ de vision de la cellule\n\ny, x = np.ogrid[-R:R, -R:R]\ndistance = np.sqrt((1+x)**2 + (1+y)**2) / R #tableau des distances par rapport à la cellule\n\n\nK_mu = 0.5\nK_sigma = 0.15\n\nKernel = gauss(distance, K_mu, K_sigma) #forme du filtre, ici encore la fonction de Gauss\nKernel[distance > 1] = 0 #On ne considère que les distances dans le champ de vision\nKernel = Kernel / np.sum(Kernel) #On normalise le tout pour que la somme des valeurs du Ker vallent 1 ",
      "metadata": {
        "trusted": true
      },
      "outputs": [],
      "execution_count": null
    },
    {
      "cell_type": "code",
      "source": "plt.subplot(121)\nplt.imshow(distance, cmap=cmap)\nplt.title('Distance du centre')\nplt.subplot(122)\nplt.imshow(Kernel, cmap=cmap)\nplt.title('Filtre')\nplt.show()",
      "metadata": {
        "trusted": true
      },
      "outputs": [],
      "execution_count": null
    },
    {
      "cell_type": "markdown",
      "source": "On va donc appliquer ce filtre à notre plateau en utilisant une convolution entre le plateau et le filtre.",
      "metadata": {}
    },
    {
      "cell_type": "code",
      "source": "def tour_suivant(plateau):\n\n    mu = 0.20\n    sigma = 0.02\n\n    nb_voisins_tab = sp.signal.convolve2d(plateau, Kernel, mode='same', boundary='wrap')\n    plateau += dt*accroissement(nb_voisins_tab, mu, sigma) \n    plateau = np.clip(plateau, 0, 1) #garde la valeur entre 0 et 1\n    \n    return plateau",
      "metadata": {
        "trusted": true
      },
      "outputs": [],
      "execution_count": null
    },
    {
      "cell_type": "code",
      "source": "R = dim//4\ny, x = np.ogrid[-R:R, -R:R]  #création d'un plateau de base sous la forme d'un disque\ndistance = np.sqrt((x)**2 + (y)**2) / R \n\nplateau = np.zeros((dim,dim)) #Positionnement du disque au centre d'un plateau vide\npos_x = dim//4\npos_y = dim//4\nplateau[pos_x:(pos_x + distance.shape[1]), pos_y:(pos_y + distance.shape[0])] = distance.T\n\nHTML(affichage(plateau, tour_suivant, nb_tours, cmap = cmap, interpolation = \"bicubic\").to_jshtml())",
      "metadata": {
        "trusted": true
      },
      "outputs": [],
      "execution_count": null
    },
    {
      "cell_type": "markdown",
      "source": "## 5) Essai d'une première structure : l'orbium\n\nÀ partir de ces 3 concepts, on peut implémenter une première structure capable de se déplacer : l'orbium.",
      "metadata": {}
    },
    {
      "cell_type": "code",
      "source": "orbium = np.array([[0,0,0,0,0,0,0.1,0.14,0.1,0,0,0.03,0.03,0,0,0.3,0,0,0,0], [0,0,0,0,0,0.08,0.24,0.3,0.3,0.18,0.14,0.15,0.16,0.15,0.09,0.2,0,0,0,0], [0,0,0,0,0,0.15,0.34,0.44,0.46,0.38,0.18,0.14,0.11,0.13,0.19,0.18,0.45,0,0,0], [0,0,0,0,0.06,0.13,0.39,0.5,0.5,0.37,0.06,0,0,0,0.02,0.16,0.68,0,0,0], [0,0,0,0.11,0.17,0.17,0.33,0.4,0.38,0.28,0.14,0,0,0,0,0,0.18,0.42,0,0], [0,0,0.09,0.18,0.13,0.06,0.08,0.26,0.32,0.32,0.27,0,0,0,0,0,0,0.82,0,0], [0.27,0,0.16,0.12,0,0,0,0.25,0.38,0.44,0.45,0.34,0,0,0,0,0,0.22,0.17,0], [0,0.07,0.2,0.02,0,0,0,0.31,0.48,0.57,0.6,0.57,0,0,0,0,0,0,0.49,0], [0,0.59,0.19,0,0,0,0,0.2,0.57,0.69,0.76,0.76,0.49,0,0,0,0,0,0.36,0], [0,0.58,0.19,0,0,0,0,0,0.67,0.83,0.9,0.92,0.87,0.12,0,0,0,0,0.22,0.07], [0,0,0.46,0,0,0,0,0,0.7,0.93,1,1,1,0.61,0,0,0,0,0.18,0.11], [0,0,0.82,0,0,0,0,0,0.47,1,1,0.98,1,0.96,0.27,0,0,0,0.19,0.1], [0,0,0.46,0,0,0,0,0,0.25,1,1,0.84,0.92,0.97,0.54,0.14,0.04,0.1,0.21,0.05], [0,0,0,0.4,0,0,0,0,0.09,0.8,1,0.82,0.8,0.85,0.63,0.31,0.18,0.19,0.2,0.01], [0,0,0,0.36,0.1,0,0,0,0.05,0.54,0.86,0.79,0.74,0.72,0.6,0.39,0.28,0.24,0.13,0], [0,0,0,0.01,0.3,0.07,0,0,0.08,0.36,0.64,0.7,0.64,0.6,0.51,0.39,0.29,0.19,0.04,0], [0,0,0,0,0.1,0.24,0.14,0.1,0.15,0.29,0.45,0.53,0.52,0.46,0.4,0.31,0.21,0.08,0,0], [0,0,0,0,0,0.08,0.21,0.21,0.22,0.29,0.36,0.39,0.37,0.33,0.26,0.18,0.09,0,0,0], [0,0,0,0,0,0,0.03,0.13,0.19,0.22,0.24,0.24,0.23,0.18,0.13,0.05,0,0,0,0], [0,0,0,0,0,0,0,0,0.02,0.06,0.08,0.09,0.07,0.05,0.01,0,0,0,0,0]])\nplt.imshow(orbium, cmap=cmap,interpolation='bicubic')\nplt.title(\"Orbium\")\nplt.show()",
      "metadata": {
        "trusted": true
      },
      "outputs": [],
      "execution_count": null
    },
    {
      "cell_type": "markdown",
      "source": "On garde le même anneau mais on change le mu et le sigma de la fonction d'accroissement.",
      "metadata": {}
    },
    {
      "cell_type": "code",
      "source": "def tour_suivant(plateau):\n\n    mu = 0.15\n    sigma = 0.015\n\n    nb_voisins_tab = sp.signal.convolve2d(plateau, Kernel, mode='same', boundary='wrap')\n    plateau += dt*accroissement(nb_voisins_tab, mu, sigma) \n    plateau = np.clip(plateau, 0, 1) #garde la valeur entre 0 et 1\n    \n    return plateau\n\nplateau = np.zeros((dim,dim)) #Génération d'un plateau aléatoire où seulement un carré de (dim//4)*(dim//4) est remplis\npos_x = dim//4\npos_y = dim//4\nplateau[pos_x:(pos_x + orbium.shape[1]), pos_y:(pos_y + orbium.shape[0])] = orbium.T\n\nHTML(affichage(plateau, tour_suivant, nb_tours, cmap = cmap, interpolation = \"bicubic\").to_jshtml())",
      "metadata": {
        "trusted": true
      },
      "outputs": [],
      "execution_count": null
    },
    {
      "cell_type": "code",
      "source": "",
      "metadata": {
        "trusted": true
      },
      "outputs": [],
      "execution_count": null
    }
  ]
}